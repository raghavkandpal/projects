{
 "cells": [
  {
   "cell_type": "code",
   "execution_count": 1,
   "metadata": {},
   "outputs": [],
   "source": [
    "import warnings \n",
    "import numpy as np \n",
    "import pandas as pd \n",
    "import seaborn as sns \n",
    "import matplotlib.pyplot as plt  \n",
    "\n",
    "pd.set_option(\"display.max_colwidth\", 200) \n",
    "warnings.filterwarnings(\"ignore\", category=DeprecationWarning) \n",
    "\n",
    "%matplotlib inline"
   ]
  },
  {
   "cell_type": "code",
   "execution_count": 2,
   "metadata": {},
   "outputs": [],
   "source": [
    "train  = pd.read_csv('train.csv') \n",
    "test = pd.read_csv('test.csv')"
   ]
  },
  {
   "cell_type": "code",
   "execution_count": 3,
   "metadata": {},
   "outputs": [
    {
     "data": {
      "text/html": [
       "<div>\n",
       "<style scoped>\n",
       "    .dataframe tbody tr th:only-of-type {\n",
       "        vertical-align: middle;\n",
       "    }\n",
       "\n",
       "    .dataframe tbody tr th {\n",
       "        vertical-align: top;\n",
       "    }\n",
       "\n",
       "    .dataframe thead th {\n",
       "        text-align: right;\n",
       "    }\n",
       "</style>\n",
       "<table border=\"1\" class=\"dataframe\">\n",
       "  <thead>\n",
       "    <tr style=\"text-align: right;\">\n",
       "      <th></th>\n",
       "      <th>loan_id</th>\n",
       "      <th>source</th>\n",
       "      <th>financial_institution</th>\n",
       "      <th>interest_rate</th>\n",
       "      <th>unpaid_principal_bal</th>\n",
       "      <th>loan_term</th>\n",
       "      <th>origination_date</th>\n",
       "      <th>first_payment_date</th>\n",
       "      <th>loan_to_value</th>\n",
       "      <th>number_of_borrowers</th>\n",
       "      <th>...</th>\n",
       "      <th>m4</th>\n",
       "      <th>m5</th>\n",
       "      <th>m6</th>\n",
       "      <th>m7</th>\n",
       "      <th>m8</th>\n",
       "      <th>m9</th>\n",
       "      <th>m10</th>\n",
       "      <th>m11</th>\n",
       "      <th>m12</th>\n",
       "      <th>m13</th>\n",
       "    </tr>\n",
       "  </thead>\n",
       "  <tbody>\n",
       "    <tr>\n",
       "      <th>0</th>\n",
       "      <td>268055008619</td>\n",
       "      <td>Z</td>\n",
       "      <td>Turner, Baldwin and Rhodes</td>\n",
       "      <td>4.250</td>\n",
       "      <td>214000</td>\n",
       "      <td>360</td>\n",
       "      <td>2012-03-01</td>\n",
       "      <td>05/2012</td>\n",
       "      <td>95</td>\n",
       "      <td>1.0</td>\n",
       "      <td>...</td>\n",
       "      <td>0</td>\n",
       "      <td>0</td>\n",
       "      <td>0</td>\n",
       "      <td>1</td>\n",
       "      <td>0</td>\n",
       "      <td>0</td>\n",
       "      <td>0</td>\n",
       "      <td>0</td>\n",
       "      <td>0</td>\n",
       "      <td>1</td>\n",
       "    </tr>\n",
       "    <tr>\n",
       "      <th>1</th>\n",
       "      <td>672831657627</td>\n",
       "      <td>Y</td>\n",
       "      <td>Swanson, Newton and Miller</td>\n",
       "      <td>4.875</td>\n",
       "      <td>144000</td>\n",
       "      <td>360</td>\n",
       "      <td>2012-01-01</td>\n",
       "      <td>03/2012</td>\n",
       "      <td>72</td>\n",
       "      <td>1.0</td>\n",
       "      <td>...</td>\n",
       "      <td>0</td>\n",
       "      <td>0</td>\n",
       "      <td>0</td>\n",
       "      <td>0</td>\n",
       "      <td>0</td>\n",
       "      <td>0</td>\n",
       "      <td>0</td>\n",
       "      <td>1</td>\n",
       "      <td>0</td>\n",
       "      <td>1</td>\n",
       "    </tr>\n",
       "    <tr>\n",
       "      <th>2</th>\n",
       "      <td>742515242108</td>\n",
       "      <td>Z</td>\n",
       "      <td>Thornton-Davis</td>\n",
       "      <td>3.250</td>\n",
       "      <td>366000</td>\n",
       "      <td>180</td>\n",
       "      <td>2012-01-01</td>\n",
       "      <td>03/2012</td>\n",
       "      <td>49</td>\n",
       "      <td>1.0</td>\n",
       "      <td>...</td>\n",
       "      <td>0</td>\n",
       "      <td>0</td>\n",
       "      <td>0</td>\n",
       "      <td>0</td>\n",
       "      <td>0</td>\n",
       "      <td>0</td>\n",
       "      <td>0</td>\n",
       "      <td>0</td>\n",
       "      <td>0</td>\n",
       "      <td>1</td>\n",
       "    </tr>\n",
       "    <tr>\n",
       "      <th>3</th>\n",
       "      <td>601385667462</td>\n",
       "      <td>X</td>\n",
       "      <td>OTHER</td>\n",
       "      <td>4.750</td>\n",
       "      <td>135000</td>\n",
       "      <td>360</td>\n",
       "      <td>2012-02-01</td>\n",
       "      <td>04/2012</td>\n",
       "      <td>46</td>\n",
       "      <td>2.0</td>\n",
       "      <td>...</td>\n",
       "      <td>0</td>\n",
       "      <td>0</td>\n",
       "      <td>0</td>\n",
       "      <td>0</td>\n",
       "      <td>0</td>\n",
       "      <td>1</td>\n",
       "      <td>1</td>\n",
       "      <td>1</td>\n",
       "      <td>1</td>\n",
       "      <td>1</td>\n",
       "    </tr>\n",
       "    <tr>\n",
       "      <th>4</th>\n",
       "      <td>273870029961</td>\n",
       "      <td>X</td>\n",
       "      <td>OTHER</td>\n",
       "      <td>4.750</td>\n",
       "      <td>124000</td>\n",
       "      <td>360</td>\n",
       "      <td>2012-02-01</td>\n",
       "      <td>04/2012</td>\n",
       "      <td>80</td>\n",
       "      <td>1.0</td>\n",
       "      <td>...</td>\n",
       "      <td>3</td>\n",
       "      <td>4</td>\n",
       "      <td>5</td>\n",
       "      <td>6</td>\n",
       "      <td>7</td>\n",
       "      <td>8</td>\n",
       "      <td>9</td>\n",
       "      <td>10</td>\n",
       "      <td>11</td>\n",
       "      <td>1</td>\n",
       "    </tr>\n",
       "  </tbody>\n",
       "</table>\n",
       "<p>5 rows × 29 columns</p>\n",
       "</div>"
      ],
      "text/plain": [
       "        loan_id source       financial_institution  interest_rate  \\\n",
       "0  268055008619      Z  Turner, Baldwin and Rhodes          4.250   \n",
       "1  672831657627      Y  Swanson, Newton and Miller          4.875   \n",
       "2  742515242108      Z              Thornton-Davis          3.250   \n",
       "3  601385667462      X                       OTHER          4.750   \n",
       "4  273870029961      X                       OTHER          4.750   \n",
       "\n",
       "   unpaid_principal_bal  loan_term origination_date first_payment_date  \\\n",
       "0                214000        360       2012-03-01            05/2012   \n",
       "1                144000        360       2012-01-01            03/2012   \n",
       "2                366000        180       2012-01-01            03/2012   \n",
       "3                135000        360       2012-02-01            04/2012   \n",
       "4                124000        360       2012-02-01            04/2012   \n",
       "\n",
       "   loan_to_value  number_of_borrowers  ...  m4  m5 m6  m7  m8  m9  m10  m11  \\\n",
       "0             95                  1.0  ...   0   0  0   1   0   0    0    0   \n",
       "1             72                  1.0  ...   0   0  0   0   0   0    0    1   \n",
       "2             49                  1.0  ...   0   0  0   0   0   0    0    0   \n",
       "3             46                  2.0  ...   0   0  0   0   0   1    1    1   \n",
       "4             80                  1.0  ...   3   4  5   6   7   8    9   10   \n",
       "\n",
       "   m12  m13  \n",
       "0    0    1  \n",
       "1    0    1  \n",
       "2    0    1  \n",
       "3    1    1  \n",
       "4   11    1  \n",
       "\n",
       "[5 rows x 29 columns]"
      ]
     },
     "execution_count": 3,
     "metadata": {},
     "output_type": "execute_result"
    }
   ],
   "source": [
    "train.head()"
   ]
  },
  {
   "cell_type": "code",
   "execution_count": 4,
   "metadata": {},
   "outputs": [
    {
     "data": {
      "text/plain": [
       "loan_id                       int64\n",
       "source                       object\n",
       "financial_institution        object\n",
       "interest_rate               float64\n",
       "unpaid_principal_bal          int64\n",
       "loan_term                     int64\n",
       "origination_date             object\n",
       "first_payment_date           object\n",
       "loan_to_value                 int64\n",
       "number_of_borrowers         float64\n",
       "debt_to_income_ratio        float64\n",
       "borrower_credit_score       float64\n",
       "loan_purpose                 object\n",
       "insurance_percent           float64\n",
       "co-borrower_credit_score    float64\n",
       "insurance_type              float64\n",
       "m1                            int64\n",
       "m2                            int64\n",
       "m3                            int64\n",
       "m4                            int64\n",
       "m5                            int64\n",
       "m6                            int64\n",
       "m7                            int64\n",
       "m8                            int64\n",
       "m9                            int64\n",
       "m10                           int64\n",
       "m11                           int64\n",
       "m12                           int64\n",
       "m13                           int64\n",
       "dtype: object"
      ]
     },
     "execution_count": 4,
     "metadata": {},
     "output_type": "execute_result"
    }
   ],
   "source": [
    "train.dtypes"
   ]
  },
  {
   "cell_type": "code",
   "execution_count": 5,
   "metadata": {},
   "outputs": [],
   "source": [
    "from sklearn.preprocessing import LabelEncoder\n",
    "label=LabelEncoder()"
   ]
  },
  {
   "cell_type": "code",
   "execution_count": 6,
   "metadata": {},
   "outputs": [
    {
     "data": {
      "text/plain": [
       "(array(['Z', 'Y', 'X'], dtype=object), array(['Y', 'X', 'Z'], dtype=object))"
      ]
     },
     "execution_count": 6,
     "metadata": {},
     "output_type": "execute_result"
    }
   ],
   "source": [
    "train['source'].unique(), test['source'].unique()"
   ]
  },
  {
   "cell_type": "code",
   "execution_count": 7,
   "metadata": {},
   "outputs": [],
   "source": [
    "train['source']=label.fit_transform(train['source'].astype('str'))\n",
    "test['source']=label.fit_transform(test['source'].astype('str'))"
   ]
  },
  {
   "cell_type": "code",
   "execution_count": 8,
   "metadata": {},
   "outputs": [
    {
     "data": {
      "text/plain": [
       "(array(['C86', 'B12', 'A23'], dtype=object),\n",
       " array(['A23', 'C86', 'B12'], dtype=object))"
      ]
     },
     "execution_count": 8,
     "metadata": {},
     "output_type": "execute_result"
    }
   ],
   "source": [
    "train['loan_purpose'].unique(), test['loan_purpose'].unique()"
   ]
  },
  {
   "cell_type": "code",
   "execution_count": 9,
   "metadata": {},
   "outputs": [],
   "source": [
    "train['loan_purpose']=label.fit_transform(train['loan_purpose'].astype('str'))\n",
    "test['loan_purpose']=label.fit_transform(test['loan_purpose'].astype('str'))"
   ]
  },
  {
   "cell_type": "code",
   "execution_count": 10,
   "metadata": {},
   "outputs": [],
   "source": [
    "orig_date=train['origination_date']\n",
    "orig_date=list(orig_date)"
   ]
  },
  {
   "cell_type": "code",
   "execution_count": 11,
   "metadata": {},
   "outputs": [],
   "source": [
    "day=[]\n",
    "month=[]\n",
    "year=[]\n",
    "for i in orig_date:\n",
    "    temp = [int(x)for x in i.split(\"-\")]\n",
    "    day.append(temp[2])\n",
    "    month.append(temp[1])\n",
    "    year.append(temp[0])"
   ]
  },
  {
   "cell_type": "code",
   "execution_count": 12,
   "metadata": {},
   "outputs": [
    {
     "data": {
      "text/plain": [
       "(Counter({2012: 116058}),\n",
       " Counter({1: 116058}),\n",
       " Counter({3: 14631, 1: 49093, 2: 52334}))"
      ]
     },
     "execution_count": 12,
     "metadata": {},
     "output_type": "execute_result"
    }
   ],
   "source": [
    "from collections import Counter\n",
    "Counter(year), Counter(day), Counter(month)"
   ]
  },
  {
   "cell_type": "code",
   "execution_count": 13,
   "metadata": {},
   "outputs": [],
   "source": [
    "train['orig_month']=month"
   ]
  },
  {
   "cell_type": "code",
   "execution_count": 14,
   "metadata": {},
   "outputs": [
    {
     "data": {
      "text/html": [
       "<div>\n",
       "<style scoped>\n",
       "    .dataframe tbody tr th:only-of-type {\n",
       "        vertical-align: middle;\n",
       "    }\n",
       "\n",
       "    .dataframe tbody tr th {\n",
       "        vertical-align: top;\n",
       "    }\n",
       "\n",
       "    .dataframe thead th {\n",
       "        text-align: right;\n",
       "    }\n",
       "</style>\n",
       "<table border=\"1\" class=\"dataframe\">\n",
       "  <thead>\n",
       "    <tr style=\"text-align: right;\">\n",
       "      <th></th>\n",
       "      <th>loan_id</th>\n",
       "      <th>source</th>\n",
       "      <th>financial_institution</th>\n",
       "      <th>interest_rate</th>\n",
       "      <th>unpaid_principal_bal</th>\n",
       "      <th>loan_term</th>\n",
       "      <th>origination_date</th>\n",
       "      <th>first_payment_date</th>\n",
       "      <th>loan_to_value</th>\n",
       "      <th>number_of_borrowers</th>\n",
       "      <th>...</th>\n",
       "      <th>m3</th>\n",
       "      <th>m4</th>\n",
       "      <th>m5</th>\n",
       "      <th>m6</th>\n",
       "      <th>m7</th>\n",
       "      <th>m8</th>\n",
       "      <th>m9</th>\n",
       "      <th>m10</th>\n",
       "      <th>m11</th>\n",
       "      <th>m12</th>\n",
       "    </tr>\n",
       "  </thead>\n",
       "  <tbody>\n",
       "    <tr>\n",
       "      <th>0</th>\n",
       "      <td>1</td>\n",
       "      <td>1</td>\n",
       "      <td>Browning-Hart</td>\n",
       "      <td>3.875</td>\n",
       "      <td>417000</td>\n",
       "      <td>360</td>\n",
       "      <td>01/02/12</td>\n",
       "      <td>Apr-12</td>\n",
       "      <td>75</td>\n",
       "      <td>1</td>\n",
       "      <td>...</td>\n",
       "      <td>0</td>\n",
       "      <td>0</td>\n",
       "      <td>0</td>\n",
       "      <td>0</td>\n",
       "      <td>0</td>\n",
       "      <td>0</td>\n",
       "      <td>0</td>\n",
       "      <td>0</td>\n",
       "      <td>0</td>\n",
       "      <td>0</td>\n",
       "    </tr>\n",
       "    <tr>\n",
       "      <th>1</th>\n",
       "      <td>2</td>\n",
       "      <td>0</td>\n",
       "      <td>OTHER</td>\n",
       "      <td>4.500</td>\n",
       "      <td>113000</td>\n",
       "      <td>360</td>\n",
       "      <td>01/02/12</td>\n",
       "      <td>Apr-12</td>\n",
       "      <td>80</td>\n",
       "      <td>2</td>\n",
       "      <td>...</td>\n",
       "      <td>0</td>\n",
       "      <td>0</td>\n",
       "      <td>0</td>\n",
       "      <td>0</td>\n",
       "      <td>0</td>\n",
       "      <td>0</td>\n",
       "      <td>0</td>\n",
       "      <td>0</td>\n",
       "      <td>0</td>\n",
       "      <td>0</td>\n",
       "    </tr>\n",
       "    <tr>\n",
       "      <th>2</th>\n",
       "      <td>3</td>\n",
       "      <td>1</td>\n",
       "      <td>OTHER</td>\n",
       "      <td>4.500</td>\n",
       "      <td>72000</td>\n",
       "      <td>360</td>\n",
       "      <td>01/01/12</td>\n",
       "      <td>Mar-12</td>\n",
       "      <td>75</td>\n",
       "      <td>1</td>\n",
       "      <td>...</td>\n",
       "      <td>0</td>\n",
       "      <td>0</td>\n",
       "      <td>0</td>\n",
       "      <td>0</td>\n",
       "      <td>0</td>\n",
       "      <td>0</td>\n",
       "      <td>0</td>\n",
       "      <td>0</td>\n",
       "      <td>0</td>\n",
       "      <td>0</td>\n",
       "    </tr>\n",
       "    <tr>\n",
       "      <th>3</th>\n",
       "      <td>4</td>\n",
       "      <td>0</td>\n",
       "      <td>Miller, Mcclure and Allen</td>\n",
       "      <td>4.125</td>\n",
       "      <td>123000</td>\n",
       "      <td>180</td>\n",
       "      <td>01/02/12</td>\n",
       "      <td>Apr-12</td>\n",
       "      <td>41</td>\n",
       "      <td>2</td>\n",
       "      <td>...</td>\n",
       "      <td>0</td>\n",
       "      <td>0</td>\n",
       "      <td>0</td>\n",
       "      <td>0</td>\n",
       "      <td>0</td>\n",
       "      <td>0</td>\n",
       "      <td>0</td>\n",
       "      <td>0</td>\n",
       "      <td>0</td>\n",
       "      <td>0</td>\n",
       "    </tr>\n",
       "    <tr>\n",
       "      <th>4</th>\n",
       "      <td>5</td>\n",
       "      <td>0</td>\n",
       "      <td>Browning-Hart</td>\n",
       "      <td>3.250</td>\n",
       "      <td>166000</td>\n",
       "      <td>180</td>\n",
       "      <td>01/02/12</td>\n",
       "      <td>Apr-12</td>\n",
       "      <td>53</td>\n",
       "      <td>2</td>\n",
       "      <td>...</td>\n",
       "      <td>0</td>\n",
       "      <td>0</td>\n",
       "      <td>0</td>\n",
       "      <td>0</td>\n",
       "      <td>0</td>\n",
       "      <td>0</td>\n",
       "      <td>0</td>\n",
       "      <td>0</td>\n",
       "      <td>0</td>\n",
       "      <td>0</td>\n",
       "    </tr>\n",
       "  </tbody>\n",
       "</table>\n",
       "<p>5 rows × 28 columns</p>\n",
       "</div>"
      ],
      "text/plain": [
       "   loan_id  source      financial_institution  interest_rate  \\\n",
       "0        1       1              Browning-Hart          3.875   \n",
       "1        2       0                      OTHER          4.500   \n",
       "2        3       1                      OTHER          4.500   \n",
       "3        4       0  Miller, Mcclure and Allen          4.125   \n",
       "4        5       0              Browning-Hart          3.250   \n",
       "\n",
       "   unpaid_principal_bal  loan_term origination_date first_payment_date  \\\n",
       "0                417000        360         01/02/12             Apr-12   \n",
       "1                113000        360         01/02/12             Apr-12   \n",
       "2                 72000        360         01/01/12             Mar-12   \n",
       "3                123000        180         01/02/12             Apr-12   \n",
       "4                166000        180         01/02/12             Apr-12   \n",
       "\n",
       "   loan_to_value  number_of_borrowers  ...  m3  m4  m5  m6  m7  m8  m9  m10  \\\n",
       "0             75                    1  ...   0   0   0   0   0   0   0    0   \n",
       "1             80                    2  ...   0   0   0   0   0   0   0    0   \n",
       "2             75                    1  ...   0   0   0   0   0   0   0    0   \n",
       "3             41                    2  ...   0   0   0   0   0   0   0    0   \n",
       "4             53                    2  ...   0   0   0   0   0   0   0    0   \n",
       "\n",
       "   m11  m12  \n",
       "0    0    0  \n",
       "1    0    0  \n",
       "2    0    0  \n",
       "3    0    0  \n",
       "4    0    0  \n",
       "\n",
       "[5 rows x 28 columns]"
      ]
     },
     "execution_count": 14,
     "metadata": {},
     "output_type": "execute_result"
    }
   ],
   "source": [
    "test.head()"
   ]
  },
  {
   "cell_type": "code",
   "execution_count": 15,
   "metadata": {},
   "outputs": [],
   "source": [
    "orig_date_test=test['origination_date']\n",
    "orig_date_test=list(orig_date_test)"
   ]
  },
  {
   "cell_type": "code",
   "execution_count": 16,
   "metadata": {},
   "outputs": [],
   "source": [
    "day_test=[]\n",
    "month_test=[]\n",
    "year_test=[]\n",
    "for i in orig_date_test:\n",
    "    temp = [int(x)for x in i.split(\"/\")]\n",
    "    day_test.append(temp[0])\n",
    "    month_test.append(temp[1])\n",
    "    year_test.append(2000+temp[2])"
   ]
  },
  {
   "cell_type": "code",
   "execution_count": 17,
   "metadata": {},
   "outputs": [
    {
     "data": {
      "text/plain": [
       "(Counter({2012: 35866}),\n",
       " Counter({1: 35866}),\n",
       " Counter({2: 16423, 1: 15051, 3: 4392}))"
      ]
     },
     "execution_count": 17,
     "metadata": {},
     "output_type": "execute_result"
    }
   ],
   "source": [
    "Counter(year_test), Counter(day_test), Counter(month_test)"
   ]
  },
  {
   "cell_type": "code",
   "execution_count": 18,
   "metadata": {},
   "outputs": [],
   "source": [
    "test['orig_month']=month_test"
   ]
  },
  {
   "cell_type": "code",
   "execution_count": 19,
   "metadata": {},
   "outputs": [],
   "source": [
    "first_pay=train['first_payment_date']\n",
    "pay_month=[]\n",
    "pay_year=[]\n",
    "for i in first_pay:\n",
    "    temp = [int(x)for x in i.split(\"/\")]\n",
    "    pay_month.append(temp[0])\n",
    "    pay_year.append(temp[1])"
   ]
  },
  {
   "cell_type": "code",
   "execution_count": 20,
   "metadata": {},
   "outputs": [
    {
     "data": {
      "text/plain": [
       "(Counter({5: 15014, 3: 47680, 4: 52840, 2: 524}), Counter({2012: 116058}))"
      ]
     },
     "execution_count": 20,
     "metadata": {},
     "output_type": "execute_result"
    }
   ],
   "source": [
    "Counter(pay_month), Counter(pay_year)"
   ]
  },
  {
   "cell_type": "code",
   "execution_count": 21,
   "metadata": {},
   "outputs": [],
   "source": [
    "train['first_pay_month']=pay_month"
   ]
  },
  {
   "cell_type": "code",
   "execution_count": 22,
   "metadata": {},
   "outputs": [],
   "source": [
    "first_pay_test=test['first_payment_date']\n",
    "pay_month_test=[]\n",
    "pay_year_test=[]\n",
    "for i in first_pay_test:\n",
    "    temp = [x for x in i.split(\"-\")]\n",
    "    pay_month_test.append(temp[0])\n",
    "    pay_year_test.append(int('20'+temp[1]))"
   ]
  },
  {
   "cell_type": "code",
   "execution_count": 23,
   "metadata": {},
   "outputs": [
    {
     "data": {
      "text/plain": [
       "(Counter({'Apr': 16551, 'Mar': 14661, 'May': 4510, 'Feb': 144}),\n",
       " Counter({2012: 35866}))"
      ]
     },
     "execution_count": 23,
     "metadata": {},
     "output_type": "execute_result"
    }
   ],
   "source": [
    "Counter(pay_month_test), Counter(pay_year_test)"
   ]
  },
  {
   "cell_type": "code",
   "execution_count": 24,
   "metadata": {},
   "outputs": [],
   "source": [
    "pay_month_test_int=[]\n",
    "for i in pay_month_test:\n",
    "    if(i=='Apr'):\n",
    "        pay_month_test_int.append(4)\n",
    "    elif(i=='Mar'):\n",
    "        pay_month_test_int.append(3)\n",
    "    elif(i=='May'):\n",
    "        pay_month_test_int.append(5)\n",
    "    elif(i=='Feb'):\n",
    "        pay_month_test_int.append(2)"
   ]
  },
  {
   "cell_type": "code",
   "execution_count": 25,
   "metadata": {},
   "outputs": [
    {
     "data": {
      "text/plain": [
       "(Counter({'Apr': 16551, 'Mar': 14661, 'May': 4510, 'Feb': 144}),\n",
       " Counter({4: 16551, 3: 14661, 5: 4510, 2: 144}))"
      ]
     },
     "execution_count": 25,
     "metadata": {},
     "output_type": "execute_result"
    }
   ],
   "source": [
    "Counter(pay_month_test),Counter(pay_month_test_int) "
   ]
  },
  {
   "cell_type": "code",
   "execution_count": 26,
   "metadata": {},
   "outputs": [],
   "source": [
    "test['first_pay_month']=pay_month_test_int"
   ]
  },
  {
   "cell_type": "code",
   "execution_count": 27,
   "metadata": {},
   "outputs": [],
   "source": [
    "train['month_diff']=train['first_pay_month']-train['orig_month']\n",
    "test['month_diff']=test['first_pay_month']-test['orig_month']"
   ]
  },
  {
   "cell_type": "code",
   "execution_count": 28,
   "metadata": {},
   "outputs": [],
   "source": [
    "train['insurance_type']=train['insurance_type'].astype('int')\n",
    "test['insurance_type']=test['insurance_type'].astype('int')"
   ]
  },
  {
   "cell_type": "code",
   "execution_count": 29,
   "metadata": {},
   "outputs": [],
   "source": [
    "train['insurance_percent']=train['insurance_percent'].apply(lambda x:x/100)"
   ]
  },
  {
   "cell_type": "code",
   "execution_count": 30,
   "metadata": {},
   "outputs": [],
   "source": [
    "test['insurance_percent']=test['insurance_percent'].apply(lambda x:x/100)"
   ]
  },
  {
   "cell_type": "code",
   "execution_count": 31,
   "metadata": {},
   "outputs": [],
   "source": [
    "train['interest_rate']=train['interest_rate'].apply(lambda x:x/100)\n",
    "test['interest_rate']=test['interest_rate'].apply(lambda x:x/100)"
   ]
  },
  {
   "cell_type": "code",
   "execution_count": 38,
   "metadata": {},
   "outputs": [],
   "source": [
    "train['financial_institution']=train['financial_institution'].replace('OTHER',0)\n",
    "test['financial_institution']=test['financial_institution'].replace('OTHER',0)"
   ]
  },
  {
   "cell_type": "code",
   "execution_count": 39,
   "metadata": {},
   "outputs": [],
   "source": [
    "train.loc[train['financial_institution'] != 0, 'financial_institution'] = 1\n",
    "test.loc[test['financial_institution'] != 0, 'financial_institution'] = 1"
   ]
  },
  {
   "cell_type": "code",
   "execution_count": 40,
   "metadata": {
    "scrolled": false
   },
   "outputs": [
    {
     "data": {
      "text/html": [
       "<div>\n",
       "<style scoped>\n",
       "    .dataframe tbody tr th:only-of-type {\n",
       "        vertical-align: middle;\n",
       "    }\n",
       "\n",
       "    .dataframe tbody tr th {\n",
       "        vertical-align: top;\n",
       "    }\n",
       "\n",
       "    .dataframe thead th {\n",
       "        text-align: right;\n",
       "    }\n",
       "</style>\n",
       "<table border=\"1\" class=\"dataframe\">\n",
       "  <thead>\n",
       "    <tr style=\"text-align: right;\">\n",
       "      <th></th>\n",
       "      <th>loan_id</th>\n",
       "      <th>source</th>\n",
       "      <th>financial_institution</th>\n",
       "      <th>interest_rate</th>\n",
       "      <th>unpaid_principal_bal</th>\n",
       "      <th>loan_term</th>\n",
       "      <th>origination_date</th>\n",
       "      <th>first_payment_date</th>\n",
       "      <th>loan_to_value</th>\n",
       "      <th>number_of_borrowers</th>\n",
       "      <th>...</th>\n",
       "      <th>m7</th>\n",
       "      <th>m8</th>\n",
       "      <th>m9</th>\n",
       "      <th>m10</th>\n",
       "      <th>m11</th>\n",
       "      <th>m12</th>\n",
       "      <th>m13</th>\n",
       "      <th>orig_month</th>\n",
       "      <th>first_pay_month</th>\n",
       "      <th>month_diff</th>\n",
       "    </tr>\n",
       "  </thead>\n",
       "  <tbody>\n",
       "    <tr>\n",
       "      <th>0</th>\n",
       "      <td>268055008619</td>\n",
       "      <td>2</td>\n",
       "      <td>1</td>\n",
       "      <td>0.04250</td>\n",
       "      <td>214000</td>\n",
       "      <td>360</td>\n",
       "      <td>2012-03-01</td>\n",
       "      <td>05/2012</td>\n",
       "      <td>95</td>\n",
       "      <td>1.0</td>\n",
       "      <td>...</td>\n",
       "      <td>1</td>\n",
       "      <td>0</td>\n",
       "      <td>0</td>\n",
       "      <td>0</td>\n",
       "      <td>0</td>\n",
       "      <td>0</td>\n",
       "      <td>1</td>\n",
       "      <td>3</td>\n",
       "      <td>5</td>\n",
       "      <td>2</td>\n",
       "    </tr>\n",
       "    <tr>\n",
       "      <th>1</th>\n",
       "      <td>672831657627</td>\n",
       "      <td>1</td>\n",
       "      <td>1</td>\n",
       "      <td>0.04875</td>\n",
       "      <td>144000</td>\n",
       "      <td>360</td>\n",
       "      <td>2012-01-01</td>\n",
       "      <td>03/2012</td>\n",
       "      <td>72</td>\n",
       "      <td>1.0</td>\n",
       "      <td>...</td>\n",
       "      <td>0</td>\n",
       "      <td>0</td>\n",
       "      <td>0</td>\n",
       "      <td>0</td>\n",
       "      <td>1</td>\n",
       "      <td>0</td>\n",
       "      <td>1</td>\n",
       "      <td>1</td>\n",
       "      <td>3</td>\n",
       "      <td>2</td>\n",
       "    </tr>\n",
       "    <tr>\n",
       "      <th>2</th>\n",
       "      <td>742515242108</td>\n",
       "      <td>2</td>\n",
       "      <td>1</td>\n",
       "      <td>0.03250</td>\n",
       "      <td>366000</td>\n",
       "      <td>180</td>\n",
       "      <td>2012-01-01</td>\n",
       "      <td>03/2012</td>\n",
       "      <td>49</td>\n",
       "      <td>1.0</td>\n",
       "      <td>...</td>\n",
       "      <td>0</td>\n",
       "      <td>0</td>\n",
       "      <td>0</td>\n",
       "      <td>0</td>\n",
       "      <td>0</td>\n",
       "      <td>0</td>\n",
       "      <td>1</td>\n",
       "      <td>1</td>\n",
       "      <td>3</td>\n",
       "      <td>2</td>\n",
       "    </tr>\n",
       "    <tr>\n",
       "      <th>3</th>\n",
       "      <td>601385667462</td>\n",
       "      <td>0</td>\n",
       "      <td>0</td>\n",
       "      <td>0.04750</td>\n",
       "      <td>135000</td>\n",
       "      <td>360</td>\n",
       "      <td>2012-02-01</td>\n",
       "      <td>04/2012</td>\n",
       "      <td>46</td>\n",
       "      <td>2.0</td>\n",
       "      <td>...</td>\n",
       "      <td>0</td>\n",
       "      <td>0</td>\n",
       "      <td>1</td>\n",
       "      <td>1</td>\n",
       "      <td>1</td>\n",
       "      <td>1</td>\n",
       "      <td>1</td>\n",
       "      <td>2</td>\n",
       "      <td>4</td>\n",
       "      <td>2</td>\n",
       "    </tr>\n",
       "    <tr>\n",
       "      <th>4</th>\n",
       "      <td>273870029961</td>\n",
       "      <td>0</td>\n",
       "      <td>0</td>\n",
       "      <td>0.04750</td>\n",
       "      <td>124000</td>\n",
       "      <td>360</td>\n",
       "      <td>2012-02-01</td>\n",
       "      <td>04/2012</td>\n",
       "      <td>80</td>\n",
       "      <td>1.0</td>\n",
       "      <td>...</td>\n",
       "      <td>6</td>\n",
       "      <td>7</td>\n",
       "      <td>8</td>\n",
       "      <td>9</td>\n",
       "      <td>10</td>\n",
       "      <td>11</td>\n",
       "      <td>1</td>\n",
       "      <td>2</td>\n",
       "      <td>4</td>\n",
       "      <td>2</td>\n",
       "    </tr>\n",
       "  </tbody>\n",
       "</table>\n",
       "<p>5 rows × 32 columns</p>\n",
       "</div>"
      ],
      "text/plain": [
       "        loan_id  source  financial_institution  interest_rate  \\\n",
       "0  268055008619       2                      1        0.04250   \n",
       "1  672831657627       1                      1        0.04875   \n",
       "2  742515242108       2                      1        0.03250   \n",
       "3  601385667462       0                      0        0.04750   \n",
       "4  273870029961       0                      0        0.04750   \n",
       "\n",
       "   unpaid_principal_bal  loan_term origination_date first_payment_date  \\\n",
       "0                214000        360       2012-03-01            05/2012   \n",
       "1                144000        360       2012-01-01            03/2012   \n",
       "2                366000        180       2012-01-01            03/2012   \n",
       "3                135000        360       2012-02-01            04/2012   \n",
       "4                124000        360       2012-02-01            04/2012   \n",
       "\n",
       "   loan_to_value  number_of_borrowers  ...  m7  m8  m9  m10  m11  m12  m13  \\\n",
       "0             95                  1.0  ...   1   0   0    0    0    0    1   \n",
       "1             72                  1.0  ...   0   0   0    0    1    0    1   \n",
       "2             49                  1.0  ...   0   0   0    0    0    0    1   \n",
       "3             46                  2.0  ...   0   0   1    1    1    1    1   \n",
       "4             80                  1.0  ...   6   7   8    9   10   11    1   \n",
       "\n",
       "   orig_month  first_pay_month  month_diff  \n",
       "0           3                5           2  \n",
       "1           1                3           2  \n",
       "2           1                3           2  \n",
       "3           2                4           2  \n",
       "4           2                4           2  \n",
       "\n",
       "[5 rows x 32 columns]"
      ]
     },
     "execution_count": 40,
     "metadata": {},
     "output_type": "execute_result"
    }
   ],
   "source": [
    "train.head()"
   ]
  },
  {
   "cell_type": "code",
   "execution_count": 41,
   "metadata": {},
   "outputs": [],
   "source": [
    "train['total_delin']=train['m1']+train['m2']+train['m3']+train['m4']+train['m5']+train['m6']+train['m7']+train['m8']+train['m9']+train['m10']+train['m11']+train['m12']"
   ]
  },
  {
   "cell_type": "code",
   "execution_count": 42,
   "metadata": {},
   "outputs": [],
   "source": [
    "test['total_delin']=test['m1']+test['m2']+test['m3']+test['m4']+test['m5']+test['m6']+test['m7']+test['m8']+test['m9']+test['m10']+test['m11']+test['m12']"
   ]
  },
  {
   "cell_type": "code",
   "execution_count": 44,
   "metadata": {},
   "outputs": [
    {
     "data": {
      "text/plain": [
       "Index(['loan_id', 'source', 'financial_institution', 'interest_rate',\n",
       "       'unpaid_principal_bal', 'loan_term', 'origination_date',\n",
       "       'first_payment_date', 'loan_to_value', 'number_of_borrowers',\n",
       "       'debt_to_income_ratio', 'borrower_credit_score', 'loan_purpose',\n",
       "       'insurance_percent', 'co-borrower_credit_score', 'insurance_type', 'm1',\n",
       "       'm2', 'm3', 'm4', 'm5', 'm6', 'm7', 'm8', 'm9', 'm10', 'm11', 'm12',\n",
       "       'm13', 'orig_month', 'first_pay_month', 'month_diff', 'total_delin'],\n",
       "      dtype='object')"
      ]
     },
     "execution_count": 44,
     "metadata": {},
     "output_type": "execute_result"
    }
   ],
   "source": [
    "train.columns"
   ]
  },
  {
   "cell_type": "code",
   "execution_count": null,
   "metadata": {},
   "outputs": [],
   "source": []
  },
  {
   "cell_type": "code",
   "execution_count": 46,
   "metadata": {},
   "outputs": [],
   "source": [
    "y=train['m13']\n",
    "x=train.drop(['loan_id','m13','origination_date','first_payment_date'],axis=1)"
   ]
  },
  {
   "cell_type": "code",
   "execution_count": 47,
   "metadata": {},
   "outputs": [],
   "source": [
    "test_id=test['loan_id']\n",
    "test_data=test.drop(['loan_id','origination_date','first_payment_date'],axis=1)"
   ]
  },
  {
   "cell_type": "code",
   "execution_count": 48,
   "metadata": {},
   "outputs": [],
   "source": [
    "submission=pd.DataFrame(test_id,columns=['loan_id'])"
   ]
  },
  {
   "cell_type": "code",
   "execution_count": null,
   "metadata": {},
   "outputs": [],
   "source": []
  },
  {
   "cell_type": "code",
   "execution_count": 49,
   "metadata": {},
   "outputs": [],
   "source": [
    "from sklearn.preprocessing import StandardScaler\n",
    "scaler=StandardScaler()"
   ]
  },
  {
   "cell_type": "code",
   "execution_count": 50,
   "metadata": {},
   "outputs": [],
   "source": [
    "x_scaled=scaler.fit_transform(x)\n",
    "test_scaled=scaler.fit_transform(test_data)"
   ]
  },
  {
   "cell_type": "code",
   "execution_count": 51,
   "metadata": {},
   "outputs": [],
   "source": [
    "from sklearn.model_selection import train_test_split\n",
    "x_train, x_test, y_train, y_test = train_test_split(x_scaled, y, test_size=0.3)"
   ]
  },
  {
   "cell_type": "code",
   "execution_count": 52,
   "metadata": {},
   "outputs": [],
   "source": [
    "import xgboost as xgb"
   ]
  },
  {
   "cell_type": "code",
   "execution_count": 53,
   "metadata": {},
   "outputs": [
    {
     "name": "stderr",
     "output_type": "stream",
     "text": [
      "C:\\Users\\USER\\Anaconda3\\lib\\site-packages\\xgboost\\core.py:587: FutureWarning: Series.base is deprecated and will be removed in a future version\n",
      "  if getattr(data, 'base', None) is not None and \\\n"
     ]
    }
   ],
   "source": [
    "dtrain = xgb.DMatrix(x_train, label=y_train) \n",
    "dvalid = xgb.DMatrix(x_test, label=y_test) \n",
    "dtest = xgb.DMatrix(test_scaled)"
   ]
  },
  {
   "cell_type": "code",
   "execution_count": 54,
   "metadata": {},
   "outputs": [],
   "source": [
    "params = {\n",
    "    'objective':'binary:logistic',\n",
    "    'max_depth':6,\n",
    "    'min_child_weight': 1,\n",
    "    'eta':.3,\n",
    "    'subsample': 1,\n",
    "    'colsample_bytree': 1,\n",
    "    'gamma': 0.0\n",
    " }"
   ]
  },
  {
   "cell_type": "code",
   "execution_count": 55,
   "metadata": {},
   "outputs": [],
   "source": [
    "def custom_eval(preds, dtrain):\n",
    "    labels = dtrain.get_label().astype(np.int)\n",
    "    preds = (preds >= 0.3).astype(np.int)\n",
    "    return [('f1_score', f1_score(labels, preds))]"
   ]
  },
  {
   "cell_type": "code",
   "execution_count": 56,
   "metadata": {},
   "outputs": [],
   "source": [
    "from sklearn.metrics import f1_score"
   ]
  },
  {
   "cell_type": "code",
   "execution_count": 57,
   "metadata": {},
   "outputs": [
    {
     "name": "stdout",
     "output_type": "stream",
     "text": [
      "CV with max_depth=5, min_child_weight=5\n",
      "\tF1 Score 0.5460534 for 5 rounds\n",
      "CV with max_depth=5, min_child_weight=6\n",
      "\tF1 Score 0.5502559999999999 for 8 rounds\n",
      "CV with max_depth=5, min_child_weight=7\n",
      "\tF1 Score 0.552834 for 5 rounds\n",
      "CV with max_depth=5, min_child_weight=8\n",
      "\tF1 Score 0.5547862 for 5 rounds\n",
      "CV with max_depth=5, min_child_weight=9\n",
      "\tF1 Score 0.5585354 for 5 rounds\n",
      "CV with max_depth=5, min_child_weight=10\n",
      "\tF1 Score 0.5603276 for 6 rounds\n",
      "CV with max_depth=5, min_child_weight=11\n",
      "\tF1 Score 0.5553938 for 5 rounds\n",
      "CV with max_depth=5, min_child_weight=12\n",
      "\tF1 Score 0.5549139999999999 for 5 rounds\n",
      "CV with max_depth=6, min_child_weight=5\n",
      "\tF1 Score 0.548572 for 8 rounds\n",
      "CV with max_depth=6, min_child_weight=6\n",
      "\tF1 Score 0.547855 for 5 rounds\n",
      "CV with max_depth=6, min_child_weight=7\n",
      "\tF1 Score 0.5536760000000001 for 5 rounds\n",
      "CV with max_depth=6, min_child_weight=8\n",
      "\tF1 Score 0.554098 for 5 rounds\n",
      "CV with max_depth=6, min_child_weight=9\n",
      "\tF1 Score 0.5598058 for 5 rounds\n",
      "CV with max_depth=6, min_child_weight=10\n",
      "\tF1 Score 0.5617238 for 6 rounds\n",
      "CV with max_depth=6, min_child_weight=11\n",
      "\tF1 Score 0.5538156 for 6 rounds\n",
      "CV with max_depth=6, min_child_weight=12\n",
      "\tF1 Score 0.5549139999999999 for 5 rounds\n",
      "CV with max_depth=7, min_child_weight=5\n",
      "\tF1 Score 0.5446745999999999 for 6 rounds\n",
      "CV with max_depth=7, min_child_weight=6\n",
      "\tF1 Score 0.547855 for 5 rounds\n",
      "CV with max_depth=7, min_child_weight=7\n",
      "\tF1 Score 0.551247 for 5 rounds\n",
      "CV with max_depth=7, min_child_weight=8\n",
      "\tF1 Score 0.554098 for 5 rounds\n",
      "CV with max_depth=7, min_child_weight=9\n",
      "\tF1 Score 0.5579204000000001 for 4 rounds\n",
      "CV with max_depth=7, min_child_weight=10\n",
      "\tF1 Score 0.5610615999999999 for 6 rounds\n",
      "CV with max_depth=7, min_child_weight=11\n",
      "\tF1 Score 0.5545186 for 8 rounds\n",
      "CV with max_depth=7, min_child_weight=12\n",
      "\tF1 Score 0.5549139999999999 for 5 rounds\n",
      "CV with max_depth=8, min_child_weight=5\n",
      "\tF1 Score 0.5460398 for 6 rounds\n",
      "CV with max_depth=8, min_child_weight=6\n",
      "\tF1 Score 0.547855 for 5 rounds\n",
      "CV with max_depth=8, min_child_weight=7\n",
      "\tF1 Score 0.551247 for 5 rounds\n",
      "CV with max_depth=8, min_child_weight=8\n",
      "\tF1 Score 0.554098 for 5 rounds\n",
      "CV with max_depth=8, min_child_weight=9\n",
      "\tF1 Score 0.5579204000000001 for 4 rounds\n",
      "CV with max_depth=8, min_child_weight=10\n",
      "\tF1 Score 0.5610615999999999 for 6 rounds\n",
      "CV with max_depth=8, min_child_weight=11\n",
      "\tF1 Score 0.5545186 for 8 rounds\n",
      "CV with max_depth=8, min_child_weight=12\n",
      "\tF1 Score 0.5549139999999999 for 5 rounds\n",
      "CV with max_depth=9, min_child_weight=5\n",
      "\tF1 Score 0.5465348 for 7 rounds\n",
      "CV with max_depth=9, min_child_weight=6\n",
      "\tF1 Score 0.547855 for 5 rounds\n",
      "CV with max_depth=9, min_child_weight=7\n",
      "\tF1 Score 0.551247 for 5 rounds\n",
      "CV with max_depth=9, min_child_weight=8\n",
      "\tF1 Score 0.554098 for 5 rounds\n",
      "CV with max_depth=9, min_child_weight=9\n",
      "\tF1 Score 0.5579204000000001 for 4 rounds\n",
      "CV with max_depth=9, min_child_weight=10\n",
      "\tF1 Score 0.5610615999999999 for 6 rounds\n",
      "CV with max_depth=9, min_child_weight=11\n",
      "\tF1 Score 0.5545186 for 8 rounds\n",
      "CV with max_depth=9, min_child_weight=12\n",
      "\tF1 Score 0.5549139999999999 for 5 rounds\n",
      "CV with max_depth=10, min_child_weight=5\n",
      "\tF1 Score 0.5465348 for 7 rounds\n",
      "CV with max_depth=10, min_child_weight=6\n",
      "\tF1 Score 0.547855 for 5 rounds\n",
      "CV with max_depth=10, min_child_weight=7\n",
      "\tF1 Score 0.551247 for 5 rounds\n",
      "CV with max_depth=10, min_child_weight=8\n",
      "\tF1 Score 0.554098 for 5 rounds\n",
      "CV with max_depth=10, min_child_weight=9\n",
      "\tF1 Score 0.5579204000000001 for 4 rounds\n",
      "CV with max_depth=10, min_child_weight=10\n",
      "\tF1 Score 0.5610615999999999 for 6 rounds\n",
      "CV with max_depth=10, min_child_weight=11\n",
      "\tF1 Score 0.5545186 for 8 rounds\n",
      "CV with max_depth=10, min_child_weight=12\n",
      "\tF1 Score 0.5549139999999999 for 5 rounds\n",
      "CV with max_depth=11, min_child_weight=5\n",
      "\tF1 Score 0.5465348 for 7 rounds\n",
      "CV with max_depth=11, min_child_weight=6\n",
      "\tF1 Score 0.547855 for 5 rounds\n",
      "CV with max_depth=11, min_child_weight=7\n",
      "\tF1 Score 0.551247 for 5 rounds\n",
      "CV with max_depth=11, min_child_weight=8\n",
      "\tF1 Score 0.554098 for 5 rounds\n",
      "CV with max_depth=11, min_child_weight=9\n",
      "\tF1 Score 0.5579204000000001 for 4 rounds\n",
      "CV with max_depth=11, min_child_weight=10\n",
      "\tF1 Score 0.5610615999999999 for 6 rounds\n",
      "CV with max_depth=11, min_child_weight=11\n",
      "\tF1 Score 0.5545186 for 8 rounds\n",
      "CV with max_depth=11, min_child_weight=12\n",
      "\tF1 Score 0.5549139999999999 for 5 rounds\n",
      "CV with max_depth=12, min_child_weight=5\n",
      "\tF1 Score 0.5465348 for 7 rounds\n",
      "CV with max_depth=12, min_child_weight=6\n",
      "\tF1 Score 0.547855 for 5 rounds\n",
      "CV with max_depth=12, min_child_weight=7\n",
      "\tF1 Score 0.551247 for 5 rounds\n",
      "CV with max_depth=12, min_child_weight=8\n",
      "\tF1 Score 0.554098 for 5 rounds\n",
      "CV with max_depth=12, min_child_weight=9\n",
      "\tF1 Score 0.5579204000000001 for 4 rounds\n",
      "CV with max_depth=12, min_child_weight=10\n",
      "\tF1 Score 0.5610615999999999 for 6 rounds\n",
      "CV with max_depth=12, min_child_weight=11\n",
      "\tF1 Score 0.5545186 for 8 rounds\n",
      "CV with max_depth=12, min_child_weight=12\n",
      "\tF1 Score 0.5549139999999999 for 5 rounds\n",
      "Best params: 6, 10, F1 Score: 0.5617238\n"
     ]
    }
   ],
   "source": [
    "gridsearch_params = [\n",
    "    (max_depth, min_child_weight)\n",
    "    for max_depth in range(5,13)\n",
    "     for min_child_weight in range(5,13)\n",
    " ]\n",
    "max_f1 = 0. # initializing with 0 \n",
    "best_params = None \n",
    "for max_depth, min_child_weight in gridsearch_params:\n",
    "    print(\"CV with max_depth={}, min_child_weight={}\".format(\n",
    "                             max_depth,\n",
    "                             min_child_weight))\n",
    "     # Update our parameters\n",
    "    params['max_depth'] = max_depth\n",
    "    params['min_child_weight'] = min_child_weight\n",
    "\n",
    "     # Cross-validation\n",
    "    cv_results = xgb.cv(params,\n",
    "        dtrain,feval= custom_eval,\n",
    "        num_boost_round=200,\n",
    "        maximize=True,\n",
    "        seed=16,\n",
    "        nfold=5,\n",
    "        early_stopping_rounds=10\n",
    "    )     \n",
    "    # Finding best F1 Score\n",
    "\n",
    "    mean_f1 = cv_results['test-f1_score-mean'].max()\n",
    "\n",
    "    boost_rounds = cv_results['test-f1_score-mean'].idxmax()    \n",
    "    print(\"\\tF1 Score {} for {} rounds\".format(mean_f1, boost_rounds))    \n",
    "    if mean_f1 > max_f1:\n",
    "            max_f1 = mean_f1\n",
    "            best_params = (max_depth,min_child_weight) \n",
    "\n",
    "print(\"Best params: {}, {}, F1 Score: {}\".format(best_params[0], best_params[1], max_f1))"
   ]
  },
  {
   "cell_type": "code",
   "execution_count": 58,
   "metadata": {},
   "outputs": [],
   "source": [
    "params['max_depth'] = 6\n",
    "params['min_child_weight'] = 10"
   ]
  },
  {
   "cell_type": "code",
   "execution_count": 59,
   "metadata": {
    "scrolled": false
   },
   "outputs": [
    {
     "name": "stdout",
     "output_type": "stream",
     "text": [
      "CV with subsample=0.5, colsample=0.5\n",
      "\tF1 Score 0.5678993999999999 for 8 rounds\n",
      "CV with subsample=0.5, colsample=0.6\n",
      "\tF1 Score 0.5678993999999999 for 8 rounds\n",
      "CV with subsample=0.5, colsample=0.7\n",
      "\tF1 Score 0.5678993999999999 for 8 rounds\n",
      "CV with subsample=0.5, colsample=0.8\n",
      "\tF1 Score 0.5678993999999999 for 8 rounds\n",
      "CV with subsample=0.5, colsample=0.9\n",
      "\tF1 Score 0.5678993999999999 for 8 rounds\n",
      "CV with subsample=0.6, colsample=0.5\n",
      "\tF1 Score 0.5585907999999999 for 6 rounds\n",
      "CV with subsample=0.6, colsample=0.6\n",
      "\tF1 Score 0.5585907999999999 for 6 rounds\n",
      "CV with subsample=0.6, colsample=0.7\n",
      "\tF1 Score 0.5585907999999999 for 6 rounds\n",
      "CV with subsample=0.6, colsample=0.8\n",
      "\tF1 Score 0.5585907999999999 for 6 rounds\n",
      "CV with subsample=0.6, colsample=0.9\n",
      "\tF1 Score 0.5585907999999999 for 6 rounds\n",
      "CV with subsample=0.7, colsample=0.5\n",
      "\tF1 Score 0.5673268 for 10 rounds\n",
      "CV with subsample=0.7, colsample=0.6\n",
      "\tF1 Score 0.5673268 for 10 rounds\n",
      "CV with subsample=0.7, colsample=0.7\n",
      "\tF1 Score 0.5673268 for 10 rounds\n",
      "CV with subsample=0.7, colsample=0.8\n",
      "\tF1 Score 0.5673268 for 10 rounds\n",
      "CV with subsample=0.7, colsample=0.9\n",
      "\tF1 Score 0.5673268 for 10 rounds\n",
      "CV with subsample=0.8, colsample=0.5\n",
      "\tF1 Score 0.5477772000000001 for 5 rounds\n",
      "CV with subsample=0.8, colsample=0.6\n",
      "\tF1 Score 0.5477772000000001 for 5 rounds\n",
      "CV with subsample=0.8, colsample=0.7\n",
      "\tF1 Score 0.5477772000000001 for 5 rounds\n",
      "CV with subsample=0.8, colsample=0.8\n",
      "\tF1 Score 0.5477772000000001 for 5 rounds\n",
      "CV with subsample=0.8, colsample=0.9\n",
      "\tF1 Score 0.5477772000000001 for 5 rounds\n",
      "CV with subsample=0.9, colsample=0.5\n",
      "\tF1 Score 0.5492858 for 4 rounds\n",
      "CV with subsample=0.9, colsample=0.6\n",
      "\tF1 Score 0.5492858 for 4 rounds\n",
      "CV with subsample=0.9, colsample=0.7\n",
      "\tF1 Score 0.5492858 for 4 rounds\n",
      "CV with subsample=0.9, colsample=0.8\n",
      "\tF1 Score 0.5492858 for 4 rounds\n",
      "CV with subsample=0.9, colsample=0.9\n",
      "\tF1 Score 0.5492858 for 4 rounds\n",
      "Best params: 0.5, 0.5, F1 Score: 0.5678993999999999\n"
     ]
    }
   ],
   "source": [
    "gridsearch_params = [\n",
    "    (subsample, colsample)\n",
    "    for subsample in [i/10. for i in range(5,10)]\n",
    "    for colsample in [i/10. for i in range(5,10)] ]\n",
    "max_f1 = 0.\n",
    "best_params = None \n",
    "for subsample, colsample in gridsearch_params:\n",
    "    print(\"CV with subsample={}, colsample={}\".format(\n",
    "                             subsample,\n",
    "                             colsample))\n",
    "     # Update our parameters\n",
    "    params['colsample'] = colsample\n",
    "    params['subsample'] = subsample\n",
    "    cv_results = xgb.cv(\n",
    "        params,\n",
    "        dtrain,\n",
    "        feval= custom_eval,\n",
    "        num_boost_round=200,\n",
    "        maximize=True,\n",
    "        seed=16,\n",
    "        nfold=5,\n",
    "        early_stopping_rounds=10\n",
    "    )\n",
    "     # Finding best F1 Score\n",
    "    mean_f1 = cv_results['test-f1_score-mean'].max()\n",
    "    boost_rounds = cv_results['test-f1_score-mean'].idxmax()\n",
    "    print(\"\\tF1 Score {} for {} rounds\".format(mean_f1, boost_rounds))\n",
    "    if mean_f1 > max_f1:\n",
    "        max_f1 = mean_f1\n",
    "        best_params = (subsample, colsample) \n",
    "\n",
    "print(\"Best params: {}, {}, F1 Score: {}\".format(best_params[0], best_params[1], max_f1))"
   ]
  },
  {
   "cell_type": "code",
   "execution_count": 60,
   "metadata": {},
   "outputs": [],
   "source": [
    "params['subsample'] = .5\n",
    "params['colsample_bytree'] = .5"
   ]
  },
  {
   "cell_type": "code",
   "execution_count": 61,
   "metadata": {},
   "outputs": [
    {
     "name": "stdout",
     "output_type": "stream",
     "text": [
      "CV with eta=0.5\n",
      "\tF1 Score 0.5434844 for 8 rounds\n",
      "CV with eta=0.3\n",
      "\tF1 Score 0.5607784 for 24 rounds\n",
      "CV with eta=0.1\n",
      "\tF1 Score 0.5541763999999999 for 18 rounds\n",
      "CV with eta=0.05\n",
      "\tF1 Score 0.5477346000000001 for 20 rounds\n",
      "CV with eta=0.03\n",
      "\tF1 Score 0.5625576000000001 for 44 rounds\n",
      "CV with eta=0.01\n",
      "\tF1 Score 0.0110412 for 0 rounds\n",
      "Best params: 0.03, F1 Score: 0.5625576000000001\n"
     ]
    }
   ],
   "source": [
    "max_f1 = 0. \n",
    "best_params = None \n",
    "for eta in [.5, .3, .1, .05, .03, .01]:\n",
    "    print(\"CV with eta={}\".format(eta))\n",
    "     # Update ETA\n",
    "    params['eta'] = eta\n",
    "\n",
    "     # Run CV\n",
    "    cv_results = xgb.cv(\n",
    "        params,\n",
    "        dtrain,\n",
    "        feval= custom_eval,\n",
    "        num_boost_round=1000,\n",
    "        maximize=True,\n",
    "        seed=16,\n",
    "        nfold=5,\n",
    "        early_stopping_rounds=20\n",
    "    )\n",
    "\n",
    "     # Finding best F1 Score\n",
    "    mean_f1 = cv_results['test-f1_score-mean'].max()\n",
    "    boost_rounds = cv_results['test-f1_score-mean'].idxmax()\n",
    "    print(\"\\tF1 Score {} for {} rounds\".format(mean_f1, boost_rounds))\n",
    "    if mean_f1 > max_f1:\n",
    "        max_f1 = mean_f1\n",
    "        best_params = eta \n",
    "print(\"Best params: {}, F1 Score: {}\".format(best_params, max_f1))"
   ]
  },
  {
   "cell_type": "code",
   "execution_count": 62,
   "metadata": {},
   "outputs": [],
   "source": [
    "params['eta'] = 0.03"
   ]
  },
  {
   "cell_type": "code",
   "execution_count": 63,
   "metadata": {},
   "outputs": [
    {
     "name": "stdout",
     "output_type": "stream",
     "text": [
      "CV with gamma=0.0\n",
      "\tF1 Score 0.5625576000000001 for 44 rounds\n",
      "CV with gamma=0.1\n",
      "\tF1 Score 0.5625576000000001 for 44 rounds\n",
      "CV with gamma=0.2\n",
      "\tF1 Score 0.5626778 for 40 rounds\n",
      "CV with gamma=0.3\n",
      "\tF1 Score 0.5645632 for 44 rounds\n",
      "CV with gamma=0.4\n",
      "\tF1 Score 0.5645632 for 44 rounds\n",
      "CV with gamma=0.5\n",
      "\tF1 Score 0.566373 for 44 rounds\n",
      "CV with gamma=0.6\n",
      "\tF1 Score 0.566373 for 44 rounds\n",
      "CV with gamma=0.7\n",
      "\tF1 Score 0.5663814 for 44 rounds\n",
      "CV with gamma=0.8\n",
      "\tF1 Score 0.5681912 for 44 rounds\n",
      "CV with gamma=0.9\n",
      "\tF1 Score 0.5642722000000001 for 44 rounds\n",
      "Best params: 0.8, F1 Score: 0.5681912\n"
     ]
    }
   ],
   "source": [
    "max_f1 = 0. \n",
    "best_params = None \n",
    "for gamma in [i/10 for i in range(0,10)]:\n",
    "    print(\"CV with gamma={}\".format(gamma))\n",
    "     # Update gamma\n",
    "    params['gamma'] = gamma\n",
    "\n",
    "     # Run CV\n",
    "    cv_results = xgb.cv(\n",
    "        params,\n",
    "        dtrain,\n",
    "        feval= custom_eval,\n",
    "        num_boost_round=1000,\n",
    "        maximize=True,\n",
    "        seed=16,\n",
    "        nfold=5,\n",
    "        early_stopping_rounds=20\n",
    "    )\n",
    "\n",
    "     # Finding best F1 Score\n",
    "    mean_f1 = cv_results['test-f1_score-mean'].max()\n",
    "    boost_rounds = cv_results['test-f1_score-mean'].idxmax()\n",
    "    print(\"\\tF1 Score {} for {} rounds\".format(mean_f1, boost_rounds))\n",
    "    if mean_f1 > max_f1:\n",
    "        max_f1 = mean_f1\n",
    "        best_params = gamma \n",
    "print(\"Best params: {}, F1 Score: {}\".format(best_params, max_f1))"
   ]
  },
  {
   "cell_type": "code",
   "execution_count": 64,
   "metadata": {},
   "outputs": [],
   "source": [
    "params['gamma'] = 0.8"
   ]
  },
  {
   "cell_type": "code",
   "execution_count": 65,
   "metadata": {},
   "outputs": [
    {
     "data": {
      "text/plain": [
       "{'objective': 'binary:logistic',\n",
       " 'max_depth': 6,\n",
       " 'min_child_weight': 10,\n",
       " 'eta': 0.03,\n",
       " 'subsample': 0.5,\n",
       " 'colsample_bytree': 0.5,\n",
       " 'gamma': 0.8,\n",
       " 'colsample': 0.9}"
      ]
     },
     "execution_count": 65,
     "metadata": {},
     "output_type": "execute_result"
    }
   ],
   "source": [
    "params"
   ]
  },
  {
   "cell_type": "code",
   "execution_count": 66,
   "metadata": {},
   "outputs": [
    {
     "name": "stdout",
     "output_type": "stream",
     "text": [
      "[0]\tValidation-error:0.004739\tValidation-f1_score:0.010571\n",
      "Multiple eval metrics have been passed: 'Validation-f1_score' will be used for early stopping.\n",
      "\n",
      "Will train until Validation-f1_score hasn't improved in 100 rounds.\n",
      "[1]\tValidation-error:0.004222\tValidation-f1_score:0.010571\n",
      "[2]\tValidation-error:0.004136\tValidation-f1_score:0.010571\n",
      "[3]\tValidation-error:0.004193\tValidation-f1_score:0.010571\n",
      "[4]\tValidation-error:0.004107\tValidation-f1_score:0.010571\n",
      "[5]\tValidation-error:0.004107\tValidation-f1_score:0.010571\n",
      "[6]\tValidation-error:0.004165\tValidation-f1_score:0.010571\n",
      "[7]\tValidation-error:0.004193\tValidation-f1_score:0.010571\n",
      "[8]\tValidation-error:0.004251\tValidation-f1_score:0.010571\n",
      "[9]\tValidation-error:0.004165\tValidation-f1_score:0.010571\n",
      "[10]\tValidation-error:0.004165\tValidation-f1_score:0.010571\n",
      "[11]\tValidation-error:0.004078\tValidation-f1_score:0.010571\n",
      "[12]\tValidation-error:0.004107\tValidation-f1_score:0.010571\n",
      "[13]\tValidation-error:0.004136\tValidation-f1_score:0.010571\n",
      "[14]\tValidation-error:0.004165\tValidation-f1_score:0.010571\n",
      "[15]\tValidation-error:0.004136\tValidation-f1_score:0.010571\n",
      "[16]\tValidation-error:0.004136\tValidation-f1_score:0.280519\n",
      "[17]\tValidation-error:0.004078\tValidation-f1_score:0.280519\n",
      "[18]\tValidation-error:0.004193\tValidation-f1_score:0.336508\n",
      "[19]\tValidation-error:0.004222\tValidation-f1_score:0.386233\n",
      "[20]\tValidation-error:0.004165\tValidation-f1_score:0.423983\n",
      "[21]\tValidation-error:0.004078\tValidation-f1_score:0.439462\n",
      "[22]\tValidation-error:0.004078\tValidation-f1_score:0.446469\n",
      "[23]\tValidation-error:0.004136\tValidation-f1_score:0.445476\n",
      "[24]\tValidation-error:0.004136\tValidation-f1_score:0.458234\n",
      "[25]\tValidation-error:0.004222\tValidation-f1_score:0.462651\n",
      "[26]\tValidation-error:0.004193\tValidation-f1_score:0.466019\n",
      "[27]\tValidation-error:0.004193\tValidation-f1_score:0.470588\n",
      "[28]\tValidation-error:0.004193\tValidation-f1_score:0.475\n",
      "[29]\tValidation-error:0.004193\tValidation-f1_score:0.482234\n",
      "[30]\tValidation-error:0.004136\tValidation-f1_score:0.482051\n",
      "[31]\tValidation-error:0.004193\tValidation-f1_score:0.487047\n",
      "[32]\tValidation-error:0.004165\tValidation-f1_score:0.488189\n",
      "[33]\tValidation-error:0.004193\tValidation-f1_score:0.490667\n",
      "[34]\tValidation-error:0.004165\tValidation-f1_score:0.493225\n",
      "[35]\tValidation-error:0.004193\tValidation-f1_score:0.490463\n",
      "[36]\tValidation-error:0.004193\tValidation-f1_score:0.497238\n",
      "[37]\tValidation-error:0.004165\tValidation-f1_score:0.509915\n",
      "[38]\tValidation-error:0.004193\tValidation-f1_score:0.511364\n",
      "[39]\tValidation-error:0.004193\tValidation-f1_score:0.518732\n",
      "[40]\tValidation-error:0.004107\tValidation-f1_score:0.51895\n",
      "[41]\tValidation-error:0.004107\tValidation-f1_score:0.519403\n",
      "[42]\tValidation-error:0.004107\tValidation-f1_score:0.516517\n",
      "[43]\tValidation-error:0.004136\tValidation-f1_score:0.516517\n",
      "[44]\tValidation-error:0.004107\tValidation-f1_score:0.518072\n",
      "[45]\tValidation-error:0.004107\tValidation-f1_score:0.518293\n",
      "[46]\tValidation-error:0.004107\tValidation-f1_score:0.516923\n",
      "[47]\tValidation-error:0.004107\tValidation-f1_score:0.518293\n",
      "[48]\tValidation-error:0.004107\tValidation-f1_score:0.513932\n",
      "[49]\tValidation-error:0.004107\tValidation-f1_score:0.509317\n",
      "[50]\tValidation-error:0.004107\tValidation-f1_score:0.510903\n",
      "[51]\tValidation-error:0.004107\tValidation-f1_score:0.515723\n",
      "[52]\tValidation-error:0.004107\tValidation-f1_score:0.514286\n",
      "[53]\tValidation-error:0.004136\tValidation-f1_score:0.507837\n",
      "[54]\tValidation-error:0.004136\tValidation-f1_score:0.512658\n",
      "[55]\tValidation-error:0.004136\tValidation-f1_score:0.509554\n",
      "[56]\tValidation-error:0.004136\tValidation-f1_score:0.498403\n",
      "[57]\tValidation-error:0.004136\tValidation-f1_score:0.501608\n",
      "[58]\tValidation-error:0.004136\tValidation-f1_score:0.5\n",
      "[59]\tValidation-error:0.004165\tValidation-f1_score:0.498403\n",
      "[60]\tValidation-error:0.004165\tValidation-f1_score:0.495177\n",
      "[61]\tValidation-error:0.004107\tValidation-f1_score:0.496732\n",
      "[62]\tValidation-error:0.004107\tValidation-f1_score:0.490323\n",
      "[63]\tValidation-error:0.004136\tValidation-f1_score:0.495114\n",
      "[64]\tValidation-error:0.004078\tValidation-f1_score:0.49505\n",
      "[65]\tValidation-error:0.004165\tValidation-f1_score:0.496732\n",
      "[66]\tValidation-error:0.004107\tValidation-f1_score:0.5\n",
      "[67]\tValidation-error:0.004136\tValidation-f1_score:0.498339\n",
      "[68]\tValidation-error:0.004136\tValidation-f1_score:0.498339\n",
      "[69]\tValidation-error:0.004136\tValidation-f1_score:0.5\n",
      "[70]\tValidation-error:0.004136\tValidation-f1_score:0.50165\n",
      "[71]\tValidation-error:0.004136\tValidation-f1_score:0.50165\n",
      "[72]\tValidation-error:0.004136\tValidation-f1_score:0.496732\n",
      "[73]\tValidation-error:0.004136\tValidation-f1_score:0.496732\n",
      "[74]\tValidation-error:0.004136\tValidation-f1_score:0.493506\n",
      "[75]\tValidation-error:0.004136\tValidation-f1_score:0.493506\n",
      "[76]\tValidation-error:0.004193\tValidation-f1_score:0.493506\n",
      "[77]\tValidation-error:0.004193\tValidation-f1_score:0.491909\n",
      "[78]\tValidation-error:0.004193\tValidation-f1_score:0.491909\n",
      "[79]\tValidation-error:0.004165\tValidation-f1_score:0.491909\n",
      "[80]\tValidation-error:0.004165\tValidation-f1_score:0.493506\n",
      "[81]\tValidation-error:0.004165\tValidation-f1_score:0.493506\n",
      "[82]\tValidation-error:0.004136\tValidation-f1_score:0.496732\n",
      "[83]\tValidation-error:0.004136\tValidation-f1_score:0.495114\n",
      "[84]\tValidation-error:0.004165\tValidation-f1_score:0.495114\n",
      "[85]\tValidation-error:0.004193\tValidation-f1_score:0.495114\n",
      "[86]\tValidation-error:0.004165\tValidation-f1_score:0.493506\n",
      "[87]\tValidation-error:0.004165\tValidation-f1_score:0.495177\n",
      "[88]\tValidation-error:0.004193\tValidation-f1_score:0.495177\n",
      "[89]\tValidation-error:0.004193\tValidation-f1_score:0.495177\n",
      "[90]\tValidation-error:0.004165\tValidation-f1_score:0.495177\n",
      "[91]\tValidation-error:0.004193\tValidation-f1_score:0.493506\n",
      "[92]\tValidation-error:0.004222\tValidation-f1_score:0.493506\n",
      "[93]\tValidation-error:0.004222\tValidation-f1_score:0.488599\n",
      "[94]\tValidation-error:0.004193\tValidation-f1_score:0.488599\n",
      "[95]\tValidation-error:0.004193\tValidation-f1_score:0.490323\n",
      "[96]\tValidation-error:0.004193\tValidation-f1_score:0.490323\n",
      "[97]\tValidation-error:0.004193\tValidation-f1_score:0.490323\n",
      "[98]\tValidation-error:0.004193\tValidation-f1_score:0.490323\n",
      "[99]\tValidation-error:0.004193\tValidation-f1_score:0.490323\n",
      "[100]\tValidation-error:0.004193\tValidation-f1_score:0.495177\n",
      "[101]\tValidation-error:0.004193\tValidation-f1_score:0.5\n",
      "[102]\tValidation-error:0.004222\tValidation-f1_score:0.5\n",
      "[103]\tValidation-error:0.004222\tValidation-f1_score:0.495177\n",
      "[104]\tValidation-error:0.004222\tValidation-f1_score:0.5\n",
      "[105]\tValidation-error:0.004251\tValidation-f1_score:0.501608\n",
      "[106]\tValidation-error:0.004222\tValidation-f1_score:0.495177\n",
      "[107]\tValidation-error:0.004222\tValidation-f1_score:0.493506\n",
      "[108]\tValidation-error:0.004222\tValidation-f1_score:0.493506\n",
      "[109]\tValidation-error:0.004222\tValidation-f1_score:0.491909\n",
      "[110]\tValidation-error:0.004251\tValidation-f1_score:0.487013\n",
      "[111]\tValidation-error:0.004222\tValidation-f1_score:0.491909\n",
      "[112]\tValidation-error:0.004222\tValidation-f1_score:0.487013\n",
      "[113]\tValidation-error:0.004222\tValidation-f1_score:0.487013\n",
      "[114]\tValidation-error:0.004222\tValidation-f1_score:0.491909\n",
      "[115]\tValidation-error:0.004222\tValidation-f1_score:0.491909\n",
      "[116]\tValidation-error:0.004222\tValidation-f1_score:0.491909\n",
      "[117]\tValidation-error:0.004222\tValidation-f1_score:0.487013\n",
      "[118]\tValidation-error:0.004222\tValidation-f1_score:0.491909\n",
      "[119]\tValidation-error:0.004251\tValidation-f1_score:0.487013\n",
      "[120]\tValidation-error:0.004251\tValidation-f1_score:0.501608\n",
      "[121]\tValidation-error:0.004251\tValidation-f1_score:0.5\n",
      "[122]\tValidation-error:0.004251\tValidation-f1_score:0.5\n",
      "[123]\tValidation-error:0.004251\tValidation-f1_score:0.5\n",
      "[124]\tValidation-error:0.004251\tValidation-f1_score:0.5\n",
      "[125]\tValidation-error:0.004251\tValidation-f1_score:0.5\n",
      "[126]\tValidation-error:0.004251\tValidation-f1_score:0.501608\n",
      "[127]\tValidation-error:0.004251\tValidation-f1_score:0.491909\n",
      "[128]\tValidation-error:0.004251\tValidation-f1_score:0.491909\n",
      "[129]\tValidation-error:0.004251\tValidation-f1_score:0.487013\n",
      "[130]\tValidation-error:0.004251\tValidation-f1_score:0.487013\n",
      "[131]\tValidation-error:0.004251\tValidation-f1_score:0.491909\n",
      "[132]\tValidation-error:0.004251\tValidation-f1_score:0.491909\n",
      "[133]\tValidation-error:0.004251\tValidation-f1_score:0.491909\n",
      "[134]\tValidation-error:0.004251\tValidation-f1_score:0.496774\n"
     ]
    },
    {
     "name": "stdout",
     "output_type": "stream",
     "text": [
      "[135]\tValidation-error:0.004251\tValidation-f1_score:0.491909\n",
      "[136]\tValidation-error:0.004251\tValidation-f1_score:0.487013\n",
      "[137]\tValidation-error:0.004251\tValidation-f1_score:0.487013\n",
      "[138]\tValidation-error:0.004251\tValidation-f1_score:0.488599\n",
      "[139]\tValidation-error:0.004251\tValidation-f1_score:0.493506\n",
      "[140]\tValidation-error:0.004251\tValidation-f1_score:0.501608\n",
      "[141]\tValidation-error:0.004251\tValidation-f1_score:0.496774\n",
      "Stopping. Best iteration:\n",
      "[41]\tValidation-error:0.004107\tValidation-f1_score:0.519403\n",
      "\n"
     ]
    }
   ],
   "source": [
    "xgb_model = xgb.train(\n",
    "    params,\n",
    "    dtrain,\n",
    "    feval= custom_eval,\n",
    "    num_boost_round= 1000,\n",
    "    maximize=True,\n",
    "    evals=[(dvalid, \"Validation\")],\n",
    "    early_stopping_rounds=100\n",
    ")"
   ]
  },
  {
   "cell_type": "code",
   "execution_count": 67,
   "metadata": {},
   "outputs": [],
   "source": [
    "test_pred = xgb_model.predict(dtest)"
   ]
  },
  {
   "cell_type": "code",
   "execution_count": 68,
   "metadata": {},
   "outputs": [],
   "source": [
    "m13_split = (test_pred >= 0.3).astype(np.int)"
   ]
  },
  {
   "cell_type": "code",
   "execution_count": 69,
   "metadata": {},
   "outputs": [
    {
     "data": {
      "text/plain": [
       "Counter({0: 35744, 1: 122})"
      ]
     },
     "execution_count": 69,
     "metadata": {},
     "output_type": "execute_result"
    }
   ],
   "source": [
    "Counter(m13_split)"
   ]
  },
  {
   "cell_type": "code",
   "execution_count": 70,
   "metadata": {},
   "outputs": [],
   "source": [
    "submission['m13']=m13_split"
   ]
  },
  {
   "cell_type": "code",
   "execution_count": 71,
   "metadata": {},
   "outputs": [],
   "source": [
    "submission.to_csv(\"sub/sub_xgb_featengg.csv\",index=False)"
   ]
  },
  {
   "cell_type": "code",
   "execution_count": 72,
   "metadata": {},
   "outputs": [
    {
     "data": {
      "text/html": [
       "<div>\n",
       "<style scoped>\n",
       "    .dataframe tbody tr th:only-of-type {\n",
       "        vertical-align: middle;\n",
       "    }\n",
       "\n",
       "    .dataframe tbody tr th {\n",
       "        vertical-align: top;\n",
       "    }\n",
       "\n",
       "    .dataframe thead th {\n",
       "        text-align: right;\n",
       "    }\n",
       "</style>\n",
       "<table border=\"1\" class=\"dataframe\">\n",
       "  <thead>\n",
       "    <tr style=\"text-align: right;\">\n",
       "      <th></th>\n",
       "      <th>loan_id</th>\n",
       "      <th>m13</th>\n",
       "    </tr>\n",
       "  </thead>\n",
       "  <tbody>\n",
       "    <tr>\n",
       "      <th>0</th>\n",
       "      <td>1</td>\n",
       "      <td>0</td>\n",
       "    </tr>\n",
       "    <tr>\n",
       "      <th>1</th>\n",
       "      <td>2</td>\n",
       "      <td>0</td>\n",
       "    </tr>\n",
       "    <tr>\n",
       "      <th>2</th>\n",
       "      <td>3</td>\n",
       "      <td>0</td>\n",
       "    </tr>\n",
       "    <tr>\n",
       "      <th>3</th>\n",
       "      <td>4</td>\n",
       "      <td>0</td>\n",
       "    </tr>\n",
       "    <tr>\n",
       "      <th>4</th>\n",
       "      <td>5</td>\n",
       "      <td>0</td>\n",
       "    </tr>\n",
       "  </tbody>\n",
       "</table>\n",
       "</div>"
      ],
      "text/plain": [
       "   loan_id  m13\n",
       "0        1    0\n",
       "1        2    0\n",
       "2        3    0\n",
       "3        4    0\n",
       "4        5    0"
      ]
     },
     "execution_count": 72,
     "metadata": {},
     "output_type": "execute_result"
    }
   ],
   "source": [
    "submission.head()"
   ]
  },
  {
   "cell_type": "code",
   "execution_count": null,
   "metadata": {},
   "outputs": [],
   "source": []
  }
 ],
 "metadata": {
  "kernelspec": {
   "display_name": "Python 3",
   "language": "python",
   "name": "python3"
  },
  "language_info": {
   "codemirror_mode": {
    "name": "ipython",
    "version": 3
   },
   "file_extension": ".py",
   "mimetype": "text/x-python",
   "name": "python",
   "nbconvert_exporter": "python",
   "pygments_lexer": "ipython3",
   "version": "3.6.8"
  }
 },
 "nbformat": 4,
 "nbformat_minor": 2
}
