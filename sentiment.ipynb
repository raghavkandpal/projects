{
 "cells": [
  {
   "cell_type": "code",
   "execution_count": 1,
   "metadata": {},
   "outputs": [],
   "source": [
    "import re, nltk, string, warnings \n",
    "import numpy as np \n",
    "import pandas as pd \n",
    "import seaborn as sns \n",
    "import matplotlib.pyplot as plt  \n",
    "\n",
    "pd.set_option(\"display.max_colwidth\", 200) \n",
    "warnings.filterwarnings(\"ignore\", category=DeprecationWarning) \n",
    "\n",
    "%matplotlib inline"
   ]
  },
  {
   "cell_type": "code",
   "execution_count": 2,
   "metadata": {},
   "outputs": [],
   "source": [
    "train  = pd.read_csv('train.csv') \n",
    "test = pd.read_csv('test.csv')"
   ]
  },
  {
   "cell_type": "code",
   "execution_count": 3,
   "metadata": {},
   "outputs": [
    {
     "name": "stdout",
     "output_type": "stream",
     "text": [
      "<class 'pandas.core.frame.DataFrame'>\n",
      "RangeIndex: 5279 entries, 0 to 5278\n",
      "Data columns (total 4 columns):\n",
      "unique_hash    5279 non-null object\n",
      "text           5279 non-null object\n",
      "drug           5279 non-null object\n",
      "sentiment      5279 non-null int64\n",
      "dtypes: int64(1), object(3)\n",
      "memory usage: 165.0+ KB\n",
      "<class 'pandas.core.frame.DataFrame'>\n",
      "RangeIndex: 2924 entries, 0 to 2923\n",
      "Data columns (total 3 columns):\n",
      "unique_hash    2924 non-null object\n",
      "text           2924 non-null object\n",
      "drug           2924 non-null object\n",
      "dtypes: object(3)\n",
      "memory usage: 68.6+ KB\n"
     ]
    }
   ],
   "source": [
    "train.info()\n",
    "test.info()"
   ]
  },
  {
   "cell_type": "code",
   "execution_count": 4,
   "metadata": {},
   "outputs": [],
   "source": [
    "drugs=list(set(list(train['drug'].unique())+list(test['drug'].unique())))"
   ]
  },
  {
   "cell_type": "code",
   "execution_count": 5,
   "metadata": {},
   "outputs": [],
   "source": [
    "train['tidy_text'] = train['text'].str.replace(\"[^a-zA-Z#]\", \" \")\n",
    "train['tidy_text'] = train['tidy_text'].str.lower()\n",
    "train['tidy_text'] = train['tidy_text'].apply(lambda x: ' '.join([w for w in x.split() if len(w)>3]))"
   ]
  },
  {
   "cell_type": "code",
   "execution_count": 6,
   "metadata": {},
   "outputs": [],
   "source": [
    "from nltk.corpus import stopwords\n",
    "stop=stopwords.words('english')"
   ]
  },
  {
   "cell_type": "code",
   "execution_count": 7,
   "metadata": {},
   "outputs": [],
   "source": [
    "stop=stop+drugs\n",
    "stopword = r'\\b(?:{})\\b'.format('|'.join(stop))\n",
    "train['tidy_text'] = train['tidy_text'].str.replace(stopword, '')"
   ]
  },
  {
   "cell_type": "code",
   "execution_count": 8,
   "metadata": {},
   "outputs": [
    {
     "data": {
      "text/html": [
       "<div>\n",
       "<style scoped>\n",
       "    .dataframe tbody tr th:only-of-type {\n",
       "        vertical-align: middle;\n",
       "    }\n",
       "\n",
       "    .dataframe tbody tr th {\n",
       "        vertical-align: top;\n",
       "    }\n",
       "\n",
       "    .dataframe thead th {\n",
       "        text-align: right;\n",
       "    }\n",
       "</style>\n",
       "<table border=\"1\" class=\"dataframe\">\n",
       "  <thead>\n",
       "    <tr style=\"text-align: right;\">\n",
       "      <th></th>\n",
       "      <th>unique_hash</th>\n",
       "      <th>text</th>\n",
       "      <th>drug</th>\n",
       "      <th>sentiment</th>\n",
       "      <th>tidy_text</th>\n",
       "    </tr>\n",
       "  </thead>\n",
       "  <tbody>\n",
       "    <tr>\n",
       "      <th>0</th>\n",
       "      <td>2e180be4c9214c1f5ab51fd8cc32bc80c9f612e0</td>\n",
       "      <td>Autoimmune diseases tend to come in clusters. As for Gilenya – if you feel good, don’t think about it, it won’t change anything but waste your time and energy. I’m taking Tysabri and feel amazing,...</td>\n",
       "      <td>gilenya</td>\n",
       "      <td>2</td>\n",
       "      <td>autoimmune diseases tend come clusters  feel good think  change anything waste  time energy taking  feel amazing symptoms   dodgy color vision since always know know  last month year decade  decid...</td>\n",
       "    </tr>\n",
       "    <tr>\n",
       "      <th>1</th>\n",
       "      <td>9eba8f80e7e20f3a2f48685530748fbfa95943e4</td>\n",
       "      <td>I can completely understand why you’d want to try it. But, results reported in lectures don’t always stand up to the scrutiny of peer-review during publication. There so much still to do before th...</td>\n",
       "      <td>gilenya</td>\n",
       "      <td>2</td>\n",
       "      <td>completely understand want results reported lectures always stand scrutiny peer review  publication  much still   convincing hope   work really aware happy  risks   great  think important present ...</td>\n",
       "    </tr>\n",
       "    <tr>\n",
       "      <th>2</th>\n",
       "      <td>fe809672251f6bd0d986e00380f48d047c7e7b76</td>\n",
       "      <td>Interesting that it only targets S1P-1/5 receptors rather than 1-5 like Fingolimod. Hoping to soon see what the AEs and SAEs were Yes. I'm not sure what this means, exactly:  Quote Nine patients r...</td>\n",
       "      <td>fingolimod</td>\n",
       "      <td>2</td>\n",
       "      <td>interesting   targets receptors rather  like  hoping soon  saes  sure   means exactly quote nine patients reported serious adverse events serious adverse event reported   patient safety signals oc...</td>\n",
       "    </tr>\n",
       "    <tr>\n",
       "      <th>3</th>\n",
       "      <td>bd22104dfa9ec80db4099523e03fae7a52735eb6</td>\n",
       "      <td>Very interesting, grand merci. Now I wonder where lemtrada and ocrevus sales would go, if they prove anti-cd20 are induction</td>\n",
       "      <td>ocrevus</td>\n",
       "      <td>2</td>\n",
       "      <td>interesting grand merci wonder    sales would  prove anti induction</td>\n",
       "    </tr>\n",
       "    <tr>\n",
       "      <th>4</th>\n",
       "      <td>b227688381f9b25e5b65109dd00f7f895e838249</td>\n",
       "      <td>Hi everybody, My latest MRI results for Brain and Cervical Cord are in and my next Neurologist appointment is in the next couple of weeks. There’re no new lesions in Brain/Cord and I’ve had no rel...</td>\n",
       "      <td>gilenya</td>\n",
       "      <td>1</td>\n",
       "      <td>everybody latest results brain cervical cord next neurologist appointment next couple weeks  lesions brain cord relapses    good sign  line cervical cord review  concerned goes lesions show hypoin...</td>\n",
       "    </tr>\n",
       "    <tr>\n",
       "      <th>5</th>\n",
       "      <td>a043780c757966243779bf3c0d11bf6eef721971</td>\n",
       "      <td>I can’t give you advice about Lemtrada because I chose Cladribine. Have you thought about this drug? The doctors at Barts are keen to give it to people with SPMS. You can read about it here: http:...</td>\n",
       "      <td>cladribine</td>\n",
       "      <td>2</td>\n",
       "      <td>give advice    chose   thought   drug doctors barts keen give people  spms read   http multiple sclerosis research blogspot suppose  therapy html</td>\n",
       "    </tr>\n",
       "    <tr>\n",
       "      <th>6</th>\n",
       "      <td>be5a13376933a7f9bbf8e801c31691092f63260a</td>\n",
       "      <td>Reply posted for JessZidek. Hi Jess Sorry to read about the challenges you are having with your health. You mentioned a lot in your post. I just want to share some info on a few of the points. Fir...</td>\n",
       "      <td>humira</td>\n",
       "      <td>0</td>\n",
       "      <td>reply posted jesszidek jess sorry read  challenges    health mentioned  post  want share  info points first know said  scared    biologics  successful reducing symptoms inducing maintain disease r...</td>\n",
       "    </tr>\n",
       "    <tr>\n",
       "      <th>7</th>\n",
       "      <td>08c3c0c702fc97d290204b37798ac62005da5626</td>\n",
       "      <td>Well as expected my Neurologist wants me to start Tysabri, I kept saying that I wasn’t happy and he kept saying Yes you are! But I am still NOT, If Lemtrada was available here I think I would defi...</td>\n",
       "      <td>gilenya</td>\n",
       "      <td>2</td>\n",
       "      <td>well expected neurologist wants start  kept saying   happy kept saying still  available  think would definitely  like every thing  behind took years longer  australia   taking  every second vitals...</td>\n",
       "    </tr>\n",
       "    <tr>\n",
       "      <th>8</th>\n",
       "      <td>8fd3d7ad80791c9343e5cf8a83bd1adf6577d516</td>\n",
       "      <td>Why do you think that FIngolimod was such a miserable failure in progressive MS trial in humans (not animals) that was aborted by Biogen? If it is in fact stimulating neuronal gene expression, axo...</td>\n",
       "      <td>fingolimod</td>\n",
       "      <td>1</td>\n",
       "      <td>think    miserable failure progressive trial humans animals  aborted biogen fact stimulating neuronal gene expression axon growth regeneration   want progressive patients human trials fail</td>\n",
       "    </tr>\n",
       "    <tr>\n",
       "      <th>9</th>\n",
       "      <td>793c5af7cc8332df17eb602247d886fbd1c80f89</td>\n",
       "      <td>Thank you so much…I’m learning a lot here at GRACE.  I should have mentioned my husband’s cancer is in his bones, liver, adrenal, in addition to lung and brain mets as I mentioned.   I truly appre...</td>\n",
       "      <td>tagrisso</td>\n",
       "      <td>2</td>\n",
       "      <td>thank much learning  grace   mentioned husband cancer bones liver adrenal addition lung brain mets mentioned truly appreciate comments hospice  started hospice weeks insurance allows palliative ca...</td>\n",
       "    </tr>\n",
       "  </tbody>\n",
       "</table>\n",
       "</div>"
      ],
      "text/plain": [
       "                                unique_hash  \\\n",
       "0  2e180be4c9214c1f5ab51fd8cc32bc80c9f612e0   \n",
       "1  9eba8f80e7e20f3a2f48685530748fbfa95943e4   \n",
       "2  fe809672251f6bd0d986e00380f48d047c7e7b76   \n",
       "3  bd22104dfa9ec80db4099523e03fae7a52735eb6   \n",
       "4  b227688381f9b25e5b65109dd00f7f895e838249   \n",
       "5  a043780c757966243779bf3c0d11bf6eef721971   \n",
       "6  be5a13376933a7f9bbf8e801c31691092f63260a   \n",
       "7  08c3c0c702fc97d290204b37798ac62005da5626   \n",
       "8  8fd3d7ad80791c9343e5cf8a83bd1adf6577d516   \n",
       "9  793c5af7cc8332df17eb602247d886fbd1c80f89   \n",
       "\n",
       "                                                                                                                                                                                                      text  \\\n",
       "0  Autoimmune diseases tend to come in clusters. As for Gilenya – if you feel good, don’t think about it, it won’t change anything but waste your time and energy. I’m taking Tysabri and feel amazing,...   \n",
       "1  I can completely understand why you’d want to try it. But, results reported in lectures don’t always stand up to the scrutiny of peer-review during publication. There so much still to do before th...   \n",
       "2  Interesting that it only targets S1P-1/5 receptors rather than 1-5 like Fingolimod. Hoping to soon see what the AEs and SAEs were Yes. I'm not sure what this means, exactly:  Quote Nine patients r...   \n",
       "3                                                                             Very interesting, grand merci. Now I wonder where lemtrada and ocrevus sales would go, if they prove anti-cd20 are induction   \n",
       "4  Hi everybody, My latest MRI results for Brain and Cervical Cord are in and my next Neurologist appointment is in the next couple of weeks. There’re no new lesions in Brain/Cord and I’ve had no rel...   \n",
       "5  I can’t give you advice about Lemtrada because I chose Cladribine. Have you thought about this drug? The doctors at Barts are keen to give it to people with SPMS. You can read about it here: http:...   \n",
       "6  Reply posted for JessZidek. Hi Jess Sorry to read about the challenges you are having with your health. You mentioned a lot in your post. I just want to share some info on a few of the points. Fir...   \n",
       "7  Well as expected my Neurologist wants me to start Tysabri, I kept saying that I wasn’t happy and he kept saying Yes you are! But I am still NOT, If Lemtrada was available here I think I would defi...   \n",
       "8  Why do you think that FIngolimod was such a miserable failure in progressive MS trial in humans (not animals) that was aborted by Biogen? If it is in fact stimulating neuronal gene expression, axo...   \n",
       "9  Thank you so much…I’m learning a lot here at GRACE.  I should have mentioned my husband’s cancer is in his bones, liver, adrenal, in addition to lung and brain mets as I mentioned.   I truly appre...   \n",
       "\n",
       "         drug  sentiment  \\\n",
       "0     gilenya          2   \n",
       "1     gilenya          2   \n",
       "2  fingolimod          2   \n",
       "3     ocrevus          2   \n",
       "4     gilenya          1   \n",
       "5  cladribine          2   \n",
       "6      humira          0   \n",
       "7     gilenya          2   \n",
       "8  fingolimod          1   \n",
       "9    tagrisso          2   \n",
       "\n",
       "                                                                                                                                                                                                 tidy_text  \n",
       "0  autoimmune diseases tend come clusters  feel good think  change anything waste  time energy taking  feel amazing symptoms   dodgy color vision since always know know  last month year decade  decid...  \n",
       "1  completely understand want results reported lectures always stand scrutiny peer review  publication  much still   convincing hope   work really aware happy  risks   great  think important present ...  \n",
       "2  interesting   targets receptors rather  like  hoping soon  saes  sure   means exactly quote nine patients reported serious adverse events serious adverse event reported   patient safety signals oc...  \n",
       "3                                                                                                                                      interesting grand merci wonder    sales would  prove anti induction  \n",
       "4  everybody latest results brain cervical cord next neurologist appointment next couple weeks  lesions brain cord relapses    good sign  line cervical cord review  concerned goes lesions show hypoin...  \n",
       "5                                                        give advice    chose   thought   drug doctors barts keen give people  spms read   http multiple sclerosis research blogspot suppose  therapy html  \n",
       "6  reply posted jesszidek jess sorry read  challenges    health mentioned  post  want share  info points first know said  scared    biologics  successful reducing symptoms inducing maintain disease r...  \n",
       "7  well expected neurologist wants start  kept saying   happy kept saying still  available  think would definitely  like every thing  behind took years longer  australia   taking  every second vitals...  \n",
       "8             think    miserable failure progressive trial humans animals  aborted biogen fact stimulating neuronal gene expression axon growth regeneration   want progressive patients human trials fail  \n",
       "9  thank much learning  grace   mentioned husband cancer bones liver adrenal addition lung brain mets mentioned truly appreciate comments hospice  started hospice weeks insurance allows palliative ca...  "
      ]
     },
     "execution_count": 8,
     "metadata": {},
     "output_type": "execute_result"
    }
   ],
   "source": [
    "train.head(10)"
   ]
  },
  {
   "cell_type": "code",
   "execution_count": 9,
   "metadata": {},
   "outputs": [
    {
     "data": {
      "text/plain": [
       "0    [autoimmune, diseases, tend, come, clusters, feel, good, think, change, anything, waste, time, energy, taking, feel, amazing, symptoms, dodgy, color, vision, since, always, know, know, last, month...\n",
       "1    [completely, understand, want, results, reported, lectures, always, stand, scrutiny, peer, review, publication, much, still, convincing, hope, work, really, aware, happy, risks, great, think, impo...\n",
       "2    [interesting, targets, receptors, rather, like, hoping, soon, saes, sure, means, exactly, quote, nine, patients, reported, serious, adverse, events, serious, adverse, event, reported, patient, saf...\n",
       "3                                                                                                                                  [interesting, grand, merci, wonder, sales, would, prove, anti, induction]\n",
       "4    [everybody, latest, results, brain, cervical, cord, next, neurologist, appointment, next, couple, weeks, lesions, brain, cord, relapses, good, sign, line, cervical, cord, review, concerned, goes, ...\n",
       "Name: tidy_text, dtype: object"
      ]
     },
     "execution_count": 9,
     "metadata": {},
     "output_type": "execute_result"
    }
   ],
   "source": [
    "train_token = train['tidy_text'].apply(lambda x: x.split()) # tokenizing \n",
    "train_token.head()"
   ]
  },
  {
   "cell_type": "code",
   "execution_count": 10,
   "metadata": {},
   "outputs": [],
   "source": [
    "train_tok=train_token.tolist()"
   ]
  },
  {
   "cell_type": "code",
   "execution_count": 11,
   "metadata": {},
   "outputs": [],
   "source": [
    "all_words=[]\n",
    "def nest_rem(l): \n",
    "    for i in l: \n",
    "        if type(i) == list: \n",
    "            nest_rem(i) \n",
    "        else: \n",
    "            all_words.append(i) \n",
    "nest_rem(train_tok)"
   ]
  },
  {
   "cell_type": "code",
   "execution_count": 12,
   "metadata": {},
   "outputs": [
    {
     "data": {
      "text/plain": [
       "883708"
      ]
     },
     "execution_count": 12,
     "metadata": {},
     "output_type": "execute_result"
    }
   ],
   "source": [
    "len(all_words)"
   ]
  },
  {
   "cell_type": "code",
   "execution_count": 13,
   "metadata": {
    "scrolled": true
   },
   "outputs": [
    {
     "data": {
      "text/plain": [
       "34161"
      ]
     },
     "execution_count": 13,
     "metadata": {},
     "output_type": "execute_result"
    }
   ],
   "source": [
    "len(list(set(all_words)))"
   ]
  },
  {
   "cell_type": "code",
   "execution_count": 17,
   "metadata": {},
   "outputs": [],
   "source": [
    "test['tidy_text'] = test['text'].str.replace(\"[^a-zA-Z#]\", \" \")\n",
    "test['tidy_text'] = test['tidy_text'].str.lower()\n",
    "test['tidy_text'] = test['tidy_text'].apply(lambda x: ' '.join([w for w in x.split() if len(w)>3]))\n",
    "test['tidy_text'] = test['tidy_text'].str.replace(stopword, '')"
   ]
  },
  {
   "cell_type": "code",
   "execution_count": null,
   "metadata": {},
   "outputs": [],
   "source": []
  }
 ],
 "metadata": {
  "kernelspec": {
   "display_name": "Python 3",
   "language": "python",
   "name": "python3"
  },
  "language_info": {
   "codemirror_mode": {
    "name": "ipython",
    "version": 3
   },
   "file_extension": ".py",
   "mimetype": "text/x-python",
   "name": "python",
   "nbconvert_exporter": "python",
   "pygments_lexer": "ipython3",
   "version": "3.6.5"
  }
 },
 "nbformat": 4,
 "nbformat_minor": 2
}
